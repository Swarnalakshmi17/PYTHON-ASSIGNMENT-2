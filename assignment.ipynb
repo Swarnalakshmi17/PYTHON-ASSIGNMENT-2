{
 "cells": [
  {
   "cell_type": "code",
   "execution_count": 1,
   "metadata": {},
   "outputs": [
    {
     "name": "stdout",
     "output_type": "stream",
     "text": [
      "Addition: 13\n",
      "Subtraction: 7\n",
      "Multiplication: 30\n",
      "Division: 3.3333333333333335\n",
      "Modulus: 1\n",
      "Exponentiation: 1000\n",
      "Floor Division: 3\n"
     ]
    }
   ],
   "source": [
    "# QUESTION 1:\n",
    "\n",
    "num1 = int(input(\"Enter first number: \"))\n",
    "num2 = int(input(\"Enter Second number: \"))\n",
    "# ADDITION of the two numbers\n",
    "add = num1 + num2\n",
    "# SUBTRACTION of the second number from the first\n",
    "sub = num1 - num2\n",
    "# MULTIPLICATION of the two numbers\n",
    "product = num1 * num2\n",
    "# DIVISION of the first number by the second\n",
    "div = num1 / num2\n",
    "# MODULUS operation to find the remainder of the first number divided by the second\n",
    "modulus = num1 % num2\n",
    "# EXPONENTIATION to raise the first number to the power of the second\n",
    "expo = num1 ** num2\n",
    "# FLOOR DIVIDION to get the largest integer less than or equal to the division result\n",
    "fdiv = num1 // num2\n",
    "# Print the RESULTS of the OPERATIONS\n",
    "print(\"Addition:\", add)\n",
    "print(\"Subtraction:\", sub)\n",
    "print(\"Multiplication:\", product)\n",
    "print(\"Division:\", div)\n",
    "print(\"Modulus:\", modulus)\n",
    "print(\"Exponentiation:\", expo)\n",
    "print(\"Floor Division:\", fdiv) "
   ]
  },
  {
   "cell_type": "code",
   "execution_count": 2,
   "metadata": {},
   "outputs": [
    {
     "name": "stdout",
     "output_type": "stream",
     "text": [
      "The first number is less than or equal to the second number.\n"
     ]
    }
   ],
   "source": [
    "# QUESTION 2:\n",
    "\n",
    "num1 =(input(\"Enter the first number: \"))\n",
    "num2 =(input(\"Enter the second number: \"))\n",
    "# Check if the FIRST number is greater than the SECOND\n",
    "if num1 > num2:\n",
    "    print(\"The first number is greater than the second number.\")\n",
    "# Check if the FIRST number is equal to the SECOND\n",
    "elif num1 == num2:\n",
    "    print(\"The first number is equal to the second number.\")\n",
    "# Check if the FIRST  number is less than or equal to the SECOND\n",
    "else:\n",
    "    print(\"The first number is less than or equal to the second number.\")"
   ]
  },
  {
   "cell_type": "code",
   "execution_count": 5,
   "metadata": {},
   "outputs": [
    {
     "name": "stdout",
     "output_type": "stream",
     "text": [
      "\n",
      "Results of Logical Operations:\n",
      "AND combination of all values: True\n",
      "OR combination of all values: True\n",
      "NOT of the first value: False\n",
      "NOT of the first value: False\n",
      "NOT of the first value: False\n"
     ]
    }
   ],
   "source": [
    "# Question 3:\n",
    "\n",
    " # Step 1: Take three boolean values as input from the user\n",
    "a= bool(input(\"Enter the first boolean value :\"))\n",
    "b= bool(input(\"Enter the second boolean value :\"))\n",
    "c= bool(input(\"Enter the third boolean value :\"))\n",
    "ans_and= a and b and c\n",
    "ans_or= a or b or c\n",
    "Not_a = not a \n",
    "Not_b= not b\n",
    "Not_c= not c\n",
    "# Step 3: Print the results\n",
    "print(\"\\nResults of Logical Operations\")\n",
    "print(f\"AND combination of all values: {ans_and}\")\n",
    "print(f\"OR combination of all values: {ans_or}\")\n",
    "print(f\"NOT of the first value: {Not_a}\")\n",
    "print(f\"NOT of the first value: {Not_b}\")\n",
    "print(f\"NOT of the first value: {Not_c}\")\n"
   ]
  },
  {
   "cell_type": "code",
   "execution_count": 3,
   "metadata": {},
   "outputs": [
    {
     "name": "stdout",
     "output_type": "stream",
     "text": [
      "The length of the string: 13\n",
      "The first and last character: s And i\n",
      "The string in reverse order: imhskalanraws\n",
      "The string in uppercase: SWARNALAKSHMI\n",
      "The string in lowercase: swarnalakshmi\n"
     ]
    }
   ],
   "source": [
    "# Question 4:\n",
    "\n",
    "string = input(\"enter a string\")\n",
    "# Print the LENGTH of the string\n",
    "print(\"The length of the string:\", len(string))\n",
    "# Print the FIRST and LAST character of the string\n",
    "print(\"The first and last character:\", string[0], \"And\", string[-1])\n",
    "# Print the string in REVERSE order\n",
    "print(\"The string in reverse order:\", string[::-1])\n",
    "# Print the string in UPPERCASE\n",
    "print(\"The string in uppercase:\", string.upper())\n",
    "# Print the string in LOWERCASE\n",
    "print(\"The string in lowercase:\", string.lower())"
   ]
  },
  {
   "cell_type": "code",
   "execution_count": 4,
   "metadata": {},
   "outputs": [
    {
     "name": "stdout",
     "output_type": "stream",
     "text": [
      "Hello swarnalakshmi , you are 21 years old.\n"
     ]
    }
   ],
   "source": [
    "# Question 5:\n",
    "\n",
    "name = input(\"Enter the name: \")\n",
    "# Prompt the user to enter their age and CONVERT it to an INTEGER\n",
    "age = int(input(\"Enter the age: \"))\n",
    "# Print a GREETING message\n",
    "print(\"Hello\", name, \",\", \"you are\", age, \"years old.\")"
   ]
  },
  {
   "cell_type": "code",
   "execution_count": 3,
   "metadata": {},
   "outputs": [
    {
     "name": "stdout",
     "output_type": "stream",
     "text": [
      "The word ',world' exists in the sentence at index 6.\n"
     ]
    }
   ],
   "source": [
    "# Question 6:\n",
    "\n",
    "a=input(\"enter a sentence\")\n",
    "# Ask the user for a WORD to SEARCH in the sentence\n",
    "word = input(\"Enter a word to search for: \")\n",
    "# Check if the WORD EXISTS in the sentence\n",
    "place = a.find(word)  \n",
    "# Use find() to get the INDEX of the word\n",
    "\n",
    "# Output the result\n",
    "if word in a:\n",
    "    print(f\"The word '{word}' exists in the sentence at index {place}.\")\n",
    "else:\n",
    "    print(f\"The word '{word}' does not exist in the sentence.\")\n"
   ]
  },
  {
   "cell_type": "code",
   "execution_count": 2,
   "metadata": {},
   "outputs": [
    {
     "name": "stdout",
     "output_type": "stream",
     "text": [
      "\n",
      "Results:\n",
      "The sum of all numbers: 222\n",
      "The largest number: 77\n",
      "The smallest number: 14\n"
     ]
    }
   ],
   "source": [
    "# Question 7:\n",
    "\n",
    "numbers = []\n",
    "for i in range(5):\n",
    "    num = int(input(f\"Enter number {i+1}: \"))\n",
    "    numbers.append(num)\n",
    "# Calculate the sum of all the numbers in the list\n",
    "total_sum = sum(numbers)  \n",
    "largest_number = max(numbers) \n",
    " # Find the maximum value in the list\n",
    "smallest_number = min(numbers)  \n",
    "# Find the minimum value in the list\n",
    "\n",
    "# Display the results\n",
    "print(\"\\nResults:\")\n",
    "print(f\"The sum of all numbers: {total_sum}\")\n",
    "print(f\"The largest number: {largest_number}\")\n",
    "print(f\"The smallest number: {smallest_number}\")\n"
   ]
  },
  {
   "cell_type": "code",
   "execution_count": 10,
   "metadata": {},
   "outputs": [
    {
     "name": "stdout",
     "output_type": "stream",
     "text": [
      "Updated list of favorite fruits: ['Apple', 'Mango', 'Orange', 'Grapes', 'Strawberry']\n"
     ]
    }
   ],
   "source": [
    "# Question 8:\n",
    "\n",
    "# fruits = [\"Apple\", \"Banana\", \"Mango\", \"Orange\", \"Grapes\"]\n",
    "fruits = [\"Apple\", \"Banana\", \"Mango\", \"Orange\", \"Grapes\"]\n",
    "# Add one more fruit to the list\n",
    "fruits.append(\"Strawberry\")\n",
    "# Remove the second fruit from the list \n",
    "fruits.pop(1)\n",
    "print(\"Updated list of favorite fruits:\", fruits)\n"
   ]
  },
  {
   "cell_type": "code",
   "execution_count": 12,
   "metadata": {},
   "outputs": [
    {
     "name": "stdout",
     "output_type": "stream",
     "text": [
      "Sorted Lists:\n",
      "Ascending order: [12, 14, 15, 17, 18]\n",
      "Descending order: [18, 17, 15, 14, 12]\n"
     ]
    }
   ],
   "source": [
    "# Question 9:\n",
    "\n",
    "numbers = []\n",
    "for i in range(5):\n",
    "    # Take input from the user, convert it to an integer, and add it to the list\n",
    "    num = int(input(f\"Enter number {i+1}: \"))\n",
    "    numbers.append(num)\n",
    "# Sort the list in ASCENDING order\n",
    "ascending_order = sorted(numbers)\n",
    "# Sort the list in DESCENDING order\n",
    "descending_order = sorted(numbers, reverse=True)\n",
    "print(\"Sorted Lists:\")\n",
    "print(f\"Ascending order: {ascending_order}\")\n",
    "print(f\"Descending order: {descending_order}\")\n"
   ]
  },
  {
   "cell_type": "code",
   "execution_count": 13,
   "metadata": {},
   "outputs": [
    {
     "name": "stdout",
     "output_type": "stream",
     "text": [
      "First 5 elements: [1, 2, 3, 4, 5]\n",
      "Last 5 elements: [6, 7, 8, 9, 10]\n",
      "Elements from index 2 to index 7: [3, 4, 5, 6, 7, 8]\n"
     ]
    }
   ],
   "source": [
    "# Question 10:\n",
    "numbers = [1, 2, 3, 4, 5, 6, 7, 8, 9, 10]\n",
    "first_five = numbers[:5]\n",
    "print(\"First 5 elements:\", first_five)\n",
    "last_five = numbers[-5:]\n",
    "print(\"Last 5 elements:\", last_five)\n",
    "middle = numbers[2:8]\n",
    "print(\"Elements from index 2 to index 7:\", middle)\n"
   ]
  },
  {
   "cell_type": "code",
   "execution_count": null,
   "metadata": {},
   "outputs": [],
   "source": []
  }
 ],
 "metadata": {
  "kernelspec": {
   "display_name": "Python 3",
   "language": "python",
   "name": "python3"
  },
  "language_info": {
   "codemirror_mode": {
    "name": "ipython",
    "version": 3
   },
   "file_extension": ".py",
   "mimetype": "text/x-python",
   "name": "python",
   "nbconvert_exporter": "python",
   "pygments_lexer": "ipython3",
   "version": "3.12.6"
  }
 },
 "nbformat": 4,
 "nbformat_minor": 2
}
